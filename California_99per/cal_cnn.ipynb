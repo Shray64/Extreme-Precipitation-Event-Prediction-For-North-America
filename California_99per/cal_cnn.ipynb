{
 "cells": [
  {
   "cell_type": "code",
   "execution_count": 1,
   "metadata": {},
   "outputs": [],
   "source": [
    "import pandas as pd\n",
    "import numpy as np\n",
    "from numpy import where\n",
    "import seaborn as sns\n",
    "from collections import Counter\n",
    "from copy import deepcopy\n",
    "\n",
    "import tensorflow as tf\n",
    "from tensorflow import keras\n",
    "from keras import metrics\n",
    "from keras.utils import to_categorical\n",
    "from keras.models import Sequential\n",
    "from keras.layers import Dense, Conv2D, MaxPooling2D, Flatten\n",
    "from keras.regularizers import l2\n",
    "\n",
    "\n",
    "from imblearn.over_sampling import SMOTE\n",
    "from imblearn.under_sampling import RandomUnderSampler\n",
    "from imblearn.pipeline import Pipeline\n",
    "\n",
    "import sklearn\n",
    "from sklearn.model_selection import train_test_split\n",
    "from sklearn.preprocessing import StandardScaler\n",
    "from sklearn.linear_model import LogisticRegression\n",
    "from sklearn.metrics import classification_report, confusion_matrix\n",
    "from sklearn.datasets import make_classification\n",
    "from sklearn.utils import shuffle\n",
    "\n",
    "import matplotlib.pyplot as plt\n",
    "import matplotlib as mpl\n",
    "from matplotlib import pyplot\n",
    "\n",
    "import statistics\n",
    "from statistics import mean \n",
    "import time\n",
    "import json\n",
    "import os\n",
    "from os import path\n",
    "import tempfile"
   ]
  },
  {
   "cell_type": "code",
   "execution_count": 2,
   "metadata": {},
   "outputs": [],
   "source": [
    "mpl.rcParams['figure.figsize'] = (12, 10)\n",
    "colors = plt.rcParams['axes.prop_cycle'].by_key()['color']\n",
    "region = 'california'\n",
    "weights_folder = '../model_weights_updated'\n",
    "results_folder = '../results_updated'"
   ]
  },
  {
   "cell_type": "code",
   "execution_count": 3,
   "metadata": {},
   "outputs": [],
   "source": [
    "nex_nq500 = pd.read_csv(\"../data_Cal_99/DJF_CASM_99per_8005_nex_nq500.txt\", header = None, delim_whitespace=True)\n",
    "nex_nqv2m = pd.read_csv(\"../data_Cal_99/DJF_CASM_99per_8005_nex_nqv2m.txt\", header = None, delim_whitespace=True)\n",
    "nex_nqv10m = pd.read_csv(\"../data_Cal_99/DJF_CASM_99per_8005_nex_nqv10m.txt\", header = None, delim_whitespace=True)\n",
    "nex_nrh500 = pd.read_csv(\"../data_Cal_99/DJF_CASM_99per_8005_nex_nrh500.txt\", header = None, delim_whitespace=True)\n",
    "nex_nrh700 = pd.read_csv(\"../data_Cal_99/DJF_CASM_99per_8005_nex_nrh700.txt\", header = None, delim_whitespace=True)\n",
    "nex_nt2m = pd.read_csv(\"../data_Cal_99/DJF_CASM_99per_8005_nex_nt2m.txt\", header = None, delim_whitespace=True)\n",
    "nex_nt2mdew = pd.read_csv(\"../data_Cal_99/DJF_CASM_99per_8005_nex_nt2mdew.txt\", header = None, delim_whitespace=True)\n",
    "nex_nt10m = pd.read_csv(\"../data_Cal_99/DJF_CASM_99per_8005_nex_nt10m.txt\", header = None, delim_whitespace=True)\n",
    "nex_nt500 = pd.read_csv(\"../data_Cal_99/DJF_CASM_99per_8005_nex_nt500.txt\", header = None, delim_whitespace=True)\n",
    "nex_ntpw = pd.read_csv(\"../data_Cal_99/DJF_CASM_99per_8005_nex_ntpw.txt\", header = None, delim_whitespace=True)\n",
    "nex_nu2m = pd.read_csv(\"../data_Cal_99/DJF_CASM_99per_8005_nex_nu2m.txt\", header = None, delim_whitespace=True)\n",
    "nex_nu10m = pd.read_csv(\"../data_Cal_99/DJF_CASM_99per_8005_nex_nu10m.txt\", header = None, delim_whitespace=True)\n",
    "nex_nu500 = pd.read_csv(\"../data_Cal_99/DJF_CASM_99per_8005_nex_nu500.txt\", header = None, delim_whitespace=True)\n",
    "nex_nuqv = pd.read_csv(\"../data_Cal_99/DJF_CASM_99per_8005_nex_nuqv.txt\", header = None, delim_whitespace=True)\n",
    "nex_nv2m = pd.read_csv(\"../data_Cal_99/DJF_CASM_99per_8005_nex_nv2m.txt\", header = None, delim_whitespace=True)\n",
    "nex_nv10m = pd.read_csv(\"../data_Cal_99/DJF_CASM_99per_8005_nex_nv10m.txt\", header = None, delim_whitespace=True)\n",
    "nex_nv500 = pd.read_csv(\"../data_Cal_99/DJF_CASM_99per_8005_nex_nv500.txt\", header = None, delim_whitespace=True)\n",
    "nex_nvqv = pd.read_csv(\"../data_Cal_99/DJF_CASM_99per_8005_nex_nvqv.txt\", header = None, delim_whitespace=True)\n",
    "nex_nw500 = pd.read_csv(\"../data_Cal_99/DJF_CASM_99per_8005_nex_nw500.txt\", header = None, delim_whitespace=True)\n",
    "\n",
    "ex_nq500 = pd.read_csv(\"../data_Cal_99/DJF_CASM_99per_8005_ex_nq500.txt\", header = None, delim_whitespace=True)\n",
    "ex_nqv2m = pd.read_csv(\"../data_Cal_99/DJF_CASM_99per_8005_ex_nqv2m.txt\", header = None, delim_whitespace=True)\n",
    "ex_nqv10m = pd.read_csv(\"../data_Cal_99/DJF_CASM_99per_8005_ex_nqv10m.txt\", header = None, delim_whitespace=True)\n",
    "ex_nrh500 = pd.read_csv(\"../data_Cal_99/DJF_CASM_99per_8005_ex_nrh500.txt\", header = None, delim_whitespace=True)\n",
    "ex_nrh700 = pd.read_csv(\"../data_Cal_99/DJF_CASM_99per_8005_ex_nrh700.txt\", header = None, delim_whitespace=True)\n",
    "ex_nt2m = pd.read_csv(\"../data_Cal_99/DJF_CASM_99per_8005_ex_nt2m.txt\", header = None, delim_whitespace=True)\n",
    "ex_nt2mdew = pd.read_csv(\"../data_Cal_99/DJF_CASM_99per_8005_ex_nt2mdew.txt\", header = None, delim_whitespace=True)\n",
    "ex_nt10m = pd.read_csv(\"../data_Cal_99/DJF_CASM_99per_8005_ex_nt10m.txt\", header = None, delim_whitespace=True)\n",
    "ex_nt500 = pd.read_csv(\"../data_Cal_99/DJF_CASM_99per_8005_ex_nt500.txt\", header = None, delim_whitespace=True)\n",
    "ex_ntpw = pd.read_csv(\"../data_Cal_99/DJF_CASM_99per_8005_ex_ntpw.txt\", header = None, delim_whitespace=True)\n",
    "ex_nu2m = pd.read_csv(\"../data_Cal_99/DJF_CASM_99per_8005_ex_nu2m.txt\", header = None, delim_whitespace=True)\n",
    "ex_nu10m = pd.read_csv(\"../data_Cal_99/DJF_CASM_99per_8005_ex_nu10m.txt\", header = None, delim_whitespace=True)\n",
    "ex_nu500 = pd.read_csv(\"../data_Cal_99/DJF_CASM_99per_8005_ex_nu500.txt\", header = None, delim_whitespace=True)\n",
    "ex_nuqv = pd.read_csv(\"../data_Cal_99/DJF_CASM_99per_8005_ex_nuqv.txt\", header = None, delim_whitespace=True)\n",
    "ex_nv2m = pd.read_csv(\"../data_Cal_99/DJF_CASM_99per_8005_ex_nv2m.txt\", header = None, delim_whitespace=True)\n",
    "ex_nv10m = pd.read_csv(\"../data_Cal_99/DJF_CASM_99per_8005_ex_nv10m.txt\", header = None, delim_whitespace=True)\n",
    "ex_nv500 = pd.read_csv(\"../data_Cal_99/DJF_CASM_99per_8005_ex_nv500.txt\", header = None, delim_whitespace=True)\n",
    "ex_nvqv = pd.read_csv(\"../data_Cal_99/DJF_CASM_99per_8005_ex_nvqv.txt\", header = None, delim_whitespace=True)\n",
    "ex_nw500 = pd.read_csv(\"../data_Cal_99/DJF_CASM_99per_8005_ex_nw500.txt\", header = None, delim_whitespace=True)\n",
    "\n",
    "\n",
    "nq500_0619 = pd.read_csv(\"../data_Cal_99/DJF_CASM_0619_nq500.txt\", header = None, delim_whitespace=True)\n",
    "nqv2m_0619 = pd.read_csv(\"../data_Cal_99/DJF_CASM_0619_nqv2m.txt\", header = None, delim_whitespace=True)\n",
    "nqv10m_0619 = pd.read_csv(\"../data_Cal_99/DJF_CASM_0619_nqv10m.txt\", header = None, delim_whitespace=True)\n",
    "nrh500_0619 = pd.read_csv(\"../data_Cal_99/DJF_CASM_0619_nrh500.txt\", header = None, delim_whitespace=True)\n",
    "nrh700_0619 = pd.read_csv(\"../data_Cal_99/DJF_CASM_0619_nrh700.txt\", header = None, delim_whitespace=True)\n",
    "nt2m_0619 = pd.read_csv(\"../data_Cal_99/DJF_CASM_0619_nt2m.txt\", header = None, delim_whitespace=True)\n",
    "nt2mdew_0619 = pd.read_csv(\"../data_Cal_99/DJF_CASM_0619_nt2mdew.txt\", header = None, delim_whitespace=True)\n",
    "nt10m_0619 = pd.read_csv(\"../data_Cal_99/DJF_CASM_0619_nt10m.txt\", header = None, delim_whitespace=True)\n",
    "nt500_0619 = pd.read_csv(\"../data_Cal_99/DJF_CASM_0619_nt500.txt\", header = None, delim_whitespace=True)\n",
    "ntpw_0619 = pd.read_csv(\"../data_Cal_99/DJF_CASM_0619_ntpw.txt\", header = None, delim_whitespace=True)\n",
    "nu2m_0619 = pd.read_csv(\"../data_Cal_99/DJF_CASM_0619_nu2m.txt\", header = None, delim_whitespace=True)\n",
    "nu10m_0619 = pd.read_csv(\"../data_Cal_99/DJF_CASM_0619_nu10m.txt\", header = None, delim_whitespace=True)\n",
    "nu500_0619 = pd.read_csv(\"../data_Cal_99/DJF_CASM_0619_nu500.txt\", header = None, delim_whitespace=True)\n",
    "nuqv_0619 = pd.read_csv(\"../data_Cal_99/DJF_CASM_0619_nuqv.txt\", header = None, delim_whitespace=True)\n",
    "nv2m_0619 = pd.read_csv(\"../data_Cal_99/DJF_CASM_0619_nv2m.txt\", header = None, delim_whitespace=True)\n",
    "nv10m_0619 = pd.read_csv(\"../data_Cal_99/DJF_CASM_0619_nv10m.txt\", header = None, delim_whitespace=True)\n",
    "nv500_0619 = pd.read_csv(\"../data_Cal_99/DJF_CASM_0619_nv500.txt\", header = None, delim_whitespace=True)\n",
    "nvqv_0619 = pd.read_csv(\"../data_Cal_99/DJF_CASM_0619_nvqv.txt\", header = None, delim_whitespace=True)\n",
    "nw500_0619 = pd.read_csv(\"../data_Cal_99/DJF_CASM_0619_nw500.txt\", header = None, delim_whitespace=True)"
   ]
  },
  {
   "cell_type": "code",
   "execution_count": 4,
   "metadata": {},
   "outputs": [],
   "source": [
    "indicator_0619 = pd.read_csv(\"../data/data_Cal_99/DJF_CASM_99per_0619_indicator.txt\", header = None, delim_whitespace=True)\n",
    "test_set_y_initial = indicator_0619[4]\n",
    "test_y = test_set_y_initial.to_numpy().reshape(1, test_set_y_initial.shape[0])"
   ]
  },
  {
   "cell_type": "code",
   "execution_count": 5,
   "metadata": {},
   "outputs": [],
   "source": [
    "indicator_0619 = indicator_0619.rename(columns = {0:'ID', 1:'Year', 2:'Month', 3: 'Day Number', 4: 'label'})"
   ]
  },
  {
   "cell_type": "code",
   "execution_count": 6,
   "metadata": {},
   "outputs": [],
   "source": [
    "indicator_8005 = pd.read_csv(\"../data/data_Cal_99/DJF_CASM_99per_8005_indicator.txt\", header = None, delim_whitespace=True)\n",
    "indicator_8005 = indicator_8005.rename(columns = {0:'ID',1:'Year',2:'Month',3:'Day Number'})"
   ]
  },
  {
   "cell_type": "code",
   "execution_count": 7,
   "metadata": {},
   "outputs": [],
   "source": [
    "nexdays_8005 = pd.read_csv(\"../data/data_Cal_99/nexday_99per_DJF_CASM_8005.txt\", header = None, delim_whitespace=True)\n",
    "nexdays_8005 = nexdays_8005.rename(columns = {0:'ID', 1:'Year', 2:'Month', 3:'Day Number'})"
   ]
  },
  {
   "cell_type": "code",
   "execution_count": 8,
   "metadata": {},
   "outputs": [],
   "source": [
    "ex_ids = []\n",
    "j = 0\n",
    "for i in nexdays_8005['ID']:\n",
    "    if i == j+1:\n",
    "        j = i\n",
    "        continue\n",
    "    for k in range(i-j-1):\n",
    "        ex_ids.append(j+k+1)\n",
    "    j = i\n",
    "ex_ids.append(2347)"
   ]
  },
  {
   "cell_type": "code",
   "execution_count": 9,
   "metadata": {},
   "outputs": [],
   "source": [
    "indicator_8005['label'] = 0\n",
    "indicator_8005.loc[indicator_8005.ID.isin(ex_ids), 'label'] = 1"
   ]
  },
  {
   "cell_type": "code",
   "execution_count": 10,
   "metadata": {},
   "outputs": [
    {
     "data": {
      "text/html": [
       "<div>\n",
       "<style scoped>\n",
       "    .dataframe tbody tr th:only-of-type {\n",
       "        vertical-align: middle;\n",
       "    }\n",
       "\n",
       "    .dataframe tbody tr th {\n",
       "        vertical-align: top;\n",
       "    }\n",
       "\n",
       "    .dataframe thead th {\n",
       "        text-align: right;\n",
       "    }\n",
       "</style>\n",
       "<table border=\"1\" class=\"dataframe\">\n",
       "  <thead>\n",
       "    <tr style=\"text-align: right;\">\n",
       "      <th></th>\n",
       "      <th>ID</th>\n",
       "      <th>Year</th>\n",
       "      <th>Month</th>\n",
       "      <th>Day Number</th>\n",
       "      <th>label</th>\n",
       "    </tr>\n",
       "  </thead>\n",
       "  <tbody>\n",
       "    <tr>\n",
       "      <th>0</th>\n",
       "      <td>1</td>\n",
       "      <td>1980</td>\n",
       "      <td>1</td>\n",
       "      <td>1</td>\n",
       "      <td>0</td>\n",
       "    </tr>\n",
       "    <tr>\n",
       "      <th>1</th>\n",
       "      <td>2</td>\n",
       "      <td>1980</td>\n",
       "      <td>1</td>\n",
       "      <td>2</td>\n",
       "      <td>0</td>\n",
       "    </tr>\n",
       "    <tr>\n",
       "      <th>2</th>\n",
       "      <td>3</td>\n",
       "      <td>1980</td>\n",
       "      <td>1</td>\n",
       "      <td>3</td>\n",
       "      <td>0</td>\n",
       "    </tr>\n",
       "    <tr>\n",
       "      <th>3</th>\n",
       "      <td>4</td>\n",
       "      <td>1980</td>\n",
       "      <td>1</td>\n",
       "      <td>4</td>\n",
       "      <td>0</td>\n",
       "    </tr>\n",
       "    <tr>\n",
       "      <th>4</th>\n",
       "      <td>5</td>\n",
       "      <td>1980</td>\n",
       "      <td>1</td>\n",
       "      <td>5</td>\n",
       "      <td>0</td>\n",
       "    </tr>\n",
       "    <tr>\n",
       "      <th>...</th>\n",
       "      <td>...</td>\n",
       "      <td>...</td>\n",
       "      <td>...</td>\n",
       "      <td>...</td>\n",
       "      <td>...</td>\n",
       "    </tr>\n",
       "    <tr>\n",
       "      <th>2342</th>\n",
       "      <td>2343</td>\n",
       "      <td>2005</td>\n",
       "      <td>12</td>\n",
       "      <td>27</td>\n",
       "      <td>0</td>\n",
       "    </tr>\n",
       "    <tr>\n",
       "      <th>2343</th>\n",
       "      <td>2344</td>\n",
       "      <td>2005</td>\n",
       "      <td>12</td>\n",
       "      <td>28</td>\n",
       "      <td>1</td>\n",
       "    </tr>\n",
       "    <tr>\n",
       "      <th>2344</th>\n",
       "      <td>2345</td>\n",
       "      <td>2005</td>\n",
       "      <td>12</td>\n",
       "      <td>29</td>\n",
       "      <td>0</td>\n",
       "    </tr>\n",
       "    <tr>\n",
       "      <th>2345</th>\n",
       "      <td>2346</td>\n",
       "      <td>2005</td>\n",
       "      <td>12</td>\n",
       "      <td>30</td>\n",
       "      <td>0</td>\n",
       "    </tr>\n",
       "    <tr>\n",
       "      <th>2346</th>\n",
       "      <td>2347</td>\n",
       "      <td>2005</td>\n",
       "      <td>12</td>\n",
       "      <td>31</td>\n",
       "      <td>1</td>\n",
       "    </tr>\n",
       "  </tbody>\n",
       "</table>\n",
       "<p>2347 rows × 5 columns</p>\n",
       "</div>"
      ],
      "text/plain": [
       "        ID  Year  Month  Day Number  label\n",
       "0        1  1980      1           1      0\n",
       "1        2  1980      1           2      0\n",
       "2        3  1980      1           3      0\n",
       "3        4  1980      1           4      0\n",
       "4        5  1980      1           5      0\n",
       "...    ...   ...    ...         ...    ...\n",
       "2342  2343  2005     12          27      0\n",
       "2343  2344  2005     12          28      1\n",
       "2344  2345  2005     12          29      0\n",
       "2345  2346  2005     12          30      0\n",
       "2346  2347  2005     12          31      1\n",
       "\n",
       "[2347 rows x 5 columns]"
      ]
     },
     "execution_count": 10,
     "metadata": {},
     "output_type": "execute_result"
    }
   ],
   "source": [
    "indicator_8005"
   ]
  },
  {
   "cell_type": "code",
   "execution_count": 11,
   "metadata": {},
   "outputs": [
    {
     "data": {
      "text/html": [
       "<div>\n",
       "<style scoped>\n",
       "    .dataframe tbody tr th:only-of-type {\n",
       "        vertical-align: middle;\n",
       "    }\n",
       "\n",
       "    .dataframe tbody tr th {\n",
       "        vertical-align: top;\n",
       "    }\n",
       "\n",
       "    .dataframe thead th {\n",
       "        text-align: right;\n",
       "    }\n",
       "</style>\n",
       "<table border=\"1\" class=\"dataframe\">\n",
       "  <thead>\n",
       "    <tr style=\"text-align: right;\">\n",
       "      <th></th>\n",
       "      <th>ID</th>\n",
       "      <th>Year</th>\n",
       "      <th>Month</th>\n",
       "      <th>Day Number</th>\n",
       "      <th>label</th>\n",
       "    </tr>\n",
       "  </thead>\n",
       "  <tbody>\n",
       "    <tr>\n",
       "      <th>0</th>\n",
       "      <td>2348</td>\n",
       "      <td>2006</td>\n",
       "      <td>1</td>\n",
       "      <td>1</td>\n",
       "      <td>1</td>\n",
       "    </tr>\n",
       "    <tr>\n",
       "      <th>1</th>\n",
       "      <td>2349</td>\n",
       "      <td>2006</td>\n",
       "      <td>1</td>\n",
       "      <td>2</td>\n",
       "      <td>1</td>\n",
       "    </tr>\n",
       "    <tr>\n",
       "      <th>2</th>\n",
       "      <td>2350</td>\n",
       "      <td>2006</td>\n",
       "      <td>1</td>\n",
       "      <td>3</td>\n",
       "      <td>1</td>\n",
       "    </tr>\n",
       "    <tr>\n",
       "      <th>3</th>\n",
       "      <td>2351</td>\n",
       "      <td>2006</td>\n",
       "      <td>1</td>\n",
       "      <td>4</td>\n",
       "      <td>0</td>\n",
       "    </tr>\n",
       "    <tr>\n",
       "      <th>4</th>\n",
       "      <td>2352</td>\n",
       "      <td>2006</td>\n",
       "      <td>1</td>\n",
       "      <td>5</td>\n",
       "      <td>0</td>\n",
       "    </tr>\n",
       "    <tr>\n",
       "      <th>...</th>\n",
       "      <td>...</td>\n",
       "      <td>...</td>\n",
       "      <td>...</td>\n",
       "      <td>...</td>\n",
       "      <td>...</td>\n",
       "    </tr>\n",
       "    <tr>\n",
       "      <th>1258</th>\n",
       "      <td>3606</td>\n",
       "      <td>2019</td>\n",
       "      <td>12</td>\n",
       "      <td>27</td>\n",
       "      <td>0</td>\n",
       "    </tr>\n",
       "    <tr>\n",
       "      <th>1259</th>\n",
       "      <td>3607</td>\n",
       "      <td>2019</td>\n",
       "      <td>12</td>\n",
       "      <td>28</td>\n",
       "      <td>0</td>\n",
       "    </tr>\n",
       "    <tr>\n",
       "      <th>1260</th>\n",
       "      <td>3608</td>\n",
       "      <td>2019</td>\n",
       "      <td>12</td>\n",
       "      <td>29</td>\n",
       "      <td>0</td>\n",
       "    </tr>\n",
       "    <tr>\n",
       "      <th>1261</th>\n",
       "      <td>3609</td>\n",
       "      <td>2019</td>\n",
       "      <td>12</td>\n",
       "      <td>30</td>\n",
       "      <td>0</td>\n",
       "    </tr>\n",
       "    <tr>\n",
       "      <th>1262</th>\n",
       "      <td>3610</td>\n",
       "      <td>2019</td>\n",
       "      <td>12</td>\n",
       "      <td>31</td>\n",
       "      <td>0</td>\n",
       "    </tr>\n",
       "  </tbody>\n",
       "</table>\n",
       "<p>1263 rows × 5 columns</p>\n",
       "</div>"
      ],
      "text/plain": [
       "        ID  Year  Month  Day Number  label\n",
       "0     2348  2006      1           1      1\n",
       "1     2349  2006      1           2      1\n",
       "2     2350  2006      1           3      1\n",
       "3     2351  2006      1           4      0\n",
       "4     2352  2006      1           5      0\n",
       "...    ...   ...    ...         ...    ...\n",
       "1258  3606  2019     12          27      0\n",
       "1259  3607  2019     12          28      0\n",
       "1260  3608  2019     12          29      0\n",
       "1261  3609  2019     12          30      0\n",
       "1262  3610  2019     12          31      0\n",
       "\n",
       "[1263 rows x 5 columns]"
      ]
     },
     "execution_count": 11,
     "metadata": {},
     "output_type": "execute_result"
    }
   ],
   "source": [
    "indicator_0619"
   ]
  },
  {
   "cell_type": "code",
   "execution_count": 12,
   "metadata": {},
   "outputs": [
    {
     "name": "stdout",
     "output_type": "stream",
     "text": [
      "Examples:\n",
      "    Total: 2347\n",
      "    Positive: 41 (1.75% of total)\n",
      "\n"
     ]
    }
   ],
   "source": [
    "nonext_8005, ext_8005 = np.bincount(indicator_8005['label'])\n",
    "total = nonext_8005 + ext_8005\n",
    "print('Examples:\\n    Total: {}\\n    Positive: {} ({:.2f}% of total)\\n'.format(\n",
    "    total, ext_8005, 100 * ext_8005 / total))"
   ]
  },
  {
   "cell_type": "code",
   "execution_count": 13,
   "metadata": {},
   "outputs": [
    {
     "name": "stdout",
     "output_type": "stream",
     "text": [
      "Examples:\n",
      "    Total: 1263\n",
      "    Positive: 34 (2.69% of total)\n",
      "\n"
     ]
    }
   ],
   "source": [
    "nonext_0619, ext_0619 = np.bincount(indicator_0619['label'])\n",
    "total = nonext_0619 + ext_0619\n",
    "print('Examples:\\n    Total: {}\\n    Positive: {} ({:.2f}% of total)\\n'.format(\n",
    "    total, ext_0619, 100 * ext_0619 / total))"
   ]
  },
  {
   "cell_type": "code",
   "execution_count": 14,
   "metadata": {},
   "outputs": [],
   "source": [
    "pos = ext_8005 + ext_0619\n",
    "neg = nonext_8005 + nonext_0619"
   ]
  },
  {
   "cell_type": "code",
   "execution_count": 15,
   "metadata": {},
   "outputs": [],
   "source": [
    "nexdays_index = (list(nexdays_8005['ID']))\n",
    "exdays_index = ex_ids"
   ]
  },
  {
   "cell_type": "code",
   "execution_count": 17,
   "metadata": {},
   "outputs": [],
   "source": [
    "nex_list = [nex_nuqv, nex_nv2m, nex_nv10m, nex_nv500, nex_nvqv, nex_nw500, nex_nq500, nex_nqv2m, \n",
    "            nex_nqv10m, nex_nrh500, nex_nrh700, nex_nt2m, nex_nt2mdew, \n",
    "            nex_nt10m, nex_nt500, nex_ntpw, nex_nu2m, nex_nu10m, nex_nu500]\n",
    "\n",
    "ex_list = [ex_nuqv, ex_nv2m,ex_nv10m,ex_nv500,ex_nvqv,ex_nw500, \n",
    "           ex_nq500, ex_nqv2m, ex_nqv10m, ex_nrh500, ex_nrh700, ex_nt2m, \n",
    "           ex_nt2mdew, ex_nt10m, ex_nt500, ex_ntpw, ex_nu2m, ex_nu10m, ex_nu500]\n",
    "\n",
    "test_list = [nuqv_0619, nv2m_0619, nv10m_0619, nv500_0619, nvqv_0619, \n",
    "             nw500_0619, nq500_0619, nqv2m_0619, nqv10m_0619, nrh500_0619, \n",
    "             nrh700_0619, nt2m_0619, nt2mdew_0619, nt10m_0619, nt500_0619, \n",
    "            ntpw_0619, nu2m_0619, nu10m_0619, nu500_0619]"
   ]
  },
  {
   "cell_type": "code",
   "execution_count": 21,
   "metadata": {},
   "outputs": [],
   "source": [
    "for nex in nex_list:\n",
    "    nex['ID'] = nexdays_index\n",
    "    nex.set_index('ID', inplace = True)\n",
    "\n",
    "for ex in ex_list:\n",
    "    ex['ID'] = exdays_index\n",
    "    ex.set_index('ID', inplace = True)"
   ]
  },
  {
   "cell_type": "code",
   "execution_count": 22,
   "metadata": {},
   "outputs": [],
   "source": [
    "def get_train_test_df(nex_names, ex_names, test_names):\n",
    "    nex_combo_8005 = pd.concat(nex_names, axis = 1)\n",
    "    nex_combo_8005[\"label\"] = 0\n",
    "\n",
    "    ex_combo_8005 = pd.concat(ex_names, axis = 1)\n",
    "    ex_combo_8005[\"label\"] = 1\n",
    "\n",
    "    combo_8005_df = pd.concat([ex_combo_8005, nex_combo_8005])\n",
    "\n",
    "    test_df = pd.concat(test_names, axis = 1)\n",
    "    test_df['label'] = test_y.reshape(test_y.shape[1],)\n",
    "\n",
    "    return  combo_8005_df, test_df"
   ]
  },
  {
   "cell_type": "code",
   "execution_count": 24,
   "metadata": {},
   "outputs": [],
   "source": [
    "METRICS = [\n",
    "      keras.metrics.TruePositives(name='tp'),\n",
    "      keras.metrics.FalsePositives(name='fp'),\n",
    "      keras.metrics.TrueNegatives(name='tn'),\n",
    "      keras.metrics.FalseNegatives(name='fn'), \n",
    "      keras.metrics.BinaryAccuracy(name='accuracy'),\n",
    "      keras.metrics.Precision(name='precision'),\n",
    "      keras.metrics.Recall(name='recall'),\n",
    "      keras.metrics.AUC(name='auc'),\n",
    "\n",
    "]\n",
    "\n",
    "\n",
    "def make_model(metrics=METRICS, output_bias=None):\n",
    "    if output_bias is not None:\n",
    "        output_bias = tf.keras.initializers.Constant(output_bias)\n",
    "    model = Sequential()\n",
    "    \n",
    "    #add model layers\n",
    "    model.add(Conv2D(16, kernel_size=3, activation='relu', input_shape=(rows,cols,channels), activity_regularizer=l2(0.01)))\n",
    "    model.add(MaxPooling2D(2,2))\n",
    "    \n",
    "    model.add(Conv2D(16, kernel_size=3, activation='relu', activity_regularizer=l2(0.001)))\n",
    "    model.add(MaxPooling2D(2,2))\n",
    "    \n",
    "    model.add(Flatten())\n",
    "    model.add(Dense(1, activation='sigmoid'))\n",
    "    \n",
    "    model.compile(\n",
    "      optimizer=keras.optimizers.Adam(lr=1e-3),\n",
    "      loss=keras.losses.BinaryCrossentropy(),\n",
    "      metrics=metrics)\n",
    "\n",
    "    return model"
   ]
  },
  {
   "cell_type": "code",
   "execution_count": 25,
   "metadata": {},
   "outputs": [],
   "source": [
    "EPOCHS = 100\n",
    "BATCH_SIZE = 200\n",
    "\n",
    "early_stopping = tf.keras.callbacks.EarlyStopping(\n",
    "    monitor='val_auc', \n",
    "    verbose=1,\n",
    "    patience=10,\n",
    "    mode='max',\n",
    "    restore_best_weights=True)"
   ]
  },
  {
   "cell_type": "code",
   "execution_count": 26,
   "metadata": {},
   "outputs": [],
   "source": [
    "rows = 29\n",
    "cols = 33"
   ]
  },
  {
   "cell_type": "code",
   "execution_count": 27,
   "metadata": {},
   "outputs": [],
   "source": [
    "def plot_loss(history, n, balance_type, combo, save_fig = False):\n",
    "  # Use a log scale to show the wide range of values.\n",
    "  plt.semilogy(history.epoch, history.history['loss'],\n",
    "               color=colors[n], label='Train '+balance_type)\n",
    "  plt.semilogy(history.epoch, history.history['val_loss'],\n",
    "          color=colors[n], label='Val '+balance_type,\n",
    "          linestyle=\"--\")\n",
    "  plt.xlabel('Epoch')\n",
    "  plt.ylabel('Loss')\n",
    "\n",
    "  plt.legend()\n",
    "  if save_fig == True:\n",
    "    path = results_folder + '/' + region + '/' + balance_type + '/' + combo\n",
    "    if not os.path.exists(path):\n",
    "        os.makedirs(path)\n",
    "    plt.savefig(path + '/' + 'loss_plot.png')\n",
    "  \n",
    "    \n",
    "    \n",
    "def plot_cm(labels, predictions, p=0.5):\n",
    "  cm = confusion_matrix(labels, predictions > p)\n",
    "  plt.figure(figsize=(5,5))\n",
    "  sns.heatmap(cm, annot=True, fmt=\"d\")\n",
    "  plt.title('Confusion matrix @{:.2f}'.format(p))\n",
    "  plt.ylabel('Actual label')\n",
    "  plt.xlabel('Predicted label')\n",
    "\n",
    "  print('Non extremes Detected (True Negatives): ', cm[0][0])\n",
    "  print('Non extremes Incorrectly Detected (False Positives): ', cm[0][1])\n",
    "  print('Extremes Missed (False Negatives): ', cm[1][0])\n",
    "  print('Extremes Detected (True Positives): ', cm[1][1])\n",
    "  print('Total  Extremes: ', np.sum(cm[1]))\n",
    "\n",
    "def plot_roc(name, labels, predictions, **kwargs):\n",
    "  fp, tp, _ = sklearn.metrics.roc_curve(labels, predictions)\n",
    "\n",
    "  plt.plot(100*fp, 100*tp, label=name, linewidth=2, **kwargs)\n",
    "  plt.xlabel('False positives [%]')\n",
    "  plt.ylabel('True positives [%]')\n",
    "#   plt.xlim([-0.5,20])\n",
    "#   plt.ylim([80,100.5])\n",
    "  plt.grid(True)\n",
    "  ax = plt.gca()\n",
    "  ax.set_aspect('equal')"
   ]
  },
  {
   "cell_type": "code",
   "execution_count": 28,
   "metadata": {},
   "outputs": [],
   "source": [
    "def resample_dataset(train_features, train_labels, bool_train_labels, val_features, val_labels):\n",
    "    pos_features = train_features[bool_train_labels]\n",
    "    neg_features = train_features[~bool_train_labels]\n",
    "\n",
    "    pos_labels = train_labels[bool_train_labels]\n",
    "    neg_labels = train_labels[~bool_train_labels]\n",
    "    \n",
    "    ids = np.arange(len(pos_features))\n",
    "    choices = np.random.choice(ids, len(neg_features))\n",
    "\n",
    "    res_pos_features = pos_features[choices]\n",
    "    res_pos_labels = pos_labels[choices]\n",
    "    \n",
    "    resampled_features = np.concatenate([res_pos_features, neg_features], axis=0)\n",
    "    resampled_labels = np.concatenate([res_pos_labels, neg_labels], axis=0)\n",
    "\n",
    "    order = np.arange(len(resampled_labels))\n",
    "    np.random.shuffle(order)\n",
    "    resampled_features = resampled_features[order]\n",
    "    resampled_labels = resampled_labels[order]\n",
    "    \n",
    "    BUFFER_SIZE = 1000\n",
    "\n",
    "    def make_ds(features, labels):\n",
    "        ds = tf.data.Dataset.from_tensor_slices((features, labels))#.cache()\n",
    "        ds = ds.shuffle(BUFFER_SIZE).repeat()\n",
    "        return ds\n",
    "\n",
    "    pos_ds = make_ds(pos_features, pos_labels)\n",
    "    neg_ds = make_ds(neg_features, neg_labels)\n",
    "    \n",
    "    resampled_ds = tf.data.experimental.sample_from_datasets([pos_ds, neg_ds], weights=[0.2, 0.8])\n",
    "    resampled_ds = resampled_ds.batch(BATCH_SIZE).prefetch(2)\n",
    "    \n",
    "    for features, label in resampled_ds.take(1):\n",
    "        print(label.numpy().mean())\n",
    "    \n",
    "    val_ds = tf.data.Dataset.from_tensor_slices((val_features, val_labels)).cache()\n",
    "    val_ds = val_ds.batch(BATCH_SIZE).prefetch(2) \n",
    "    \n",
    "    return resampled_ds, val_ds   \n",
    "\n",
    "def train_with_balance(resampled_ds, val_ds):\n",
    "    initial_bias = np.log([pos/neg])\n",
    "    model = make_model(output_bias=initial_bias)\n",
    "    initial_weights = os.path.join(tempfile.mkdtemp(), 'initial_weights')\n",
    "    model.save_weights(initial_weights)\n",
    "    \n",
    "    resampled_model = make_model()\n",
    "    resampled_model.load_weights(initial_weights)\n",
    "\n",
    "    # Reset the bias to zero, since this dataset is balanced.\n",
    "    output_layer = resampled_model.layers[-1] \n",
    "    output_layer.bias.assign([0])\n",
    "    \n",
    "    resampled_steps_per_epoch = np.ceil(2.0*neg/BATCH_SIZE)\n",
    "\n",
    "    resampled_history = resampled_model.fit(\n",
    "    resampled_ds,\n",
    "    # These are not real epochs\n",
    "    steps_per_epoch=20,\n",
    "    epochs=10*EPOCHS,\n",
    "    callbacks=[early_stopping],\n",
    "    validation_data=(val_ds))\n",
    "    \n",
    "    return resampled_history, resampled_model"
   ]
  },
  {
   "cell_type": "code",
   "execution_count": 29,
   "metadata": {},
   "outputs": [],
   "source": [
    "def train_no_balance(train_features, train_labels, val_features, val_labels):\n",
    "    initial_bias = np.log([pos/neg])\n",
    "    model = make_model(output_bias=initial_bias)\n",
    "    initial_weights = os.path.join(tempfile.mkdtemp(), 'initial_weights')\n",
    "    model.save_weights(initial_weights)\n",
    "    \n",
    "    model = make_model()\n",
    "    model.load_weights(initial_weights)\n",
    "    \n",
    "    baseline_history = model.fit(\n",
    "    train_features,\n",
    "    train_labels,\n",
    "    batch_size=BATCH_SIZE,\n",
    "    epochs=EPOCHS,\n",
    "    callbacks=[early_stopping],\n",
    "    validation_data=(val_features, val_labels))\n",
    "    \n",
    "    return baseline_history, model"
   ]
  },
  {
   "cell_type": "code",
   "execution_count": 30,
   "metadata": {},
   "outputs": [],
   "source": [
    "def var_analysis(nex_names, ex_names, test_names, oversample = True):\n",
    "    train_df, test_df = get_train_test_df(nex_names, ex_names, test_names)\n",
    "    \n",
    "    complete_train_df = train_df.copy(deep = True)\n",
    "    complete_test_df = test_df.copy(deep = True)\n",
    "    \n",
    "    train_df, val_df = train_test_split(train_df, test_size=0.2)\n",
    "    \n",
    "    train_labels = np.array(train_df.pop('label'))\n",
    "    bool_train_labels = train_labels != 0\n",
    "    val_labels = np.array(val_df.pop('label'))\n",
    "    test_labels = np.array(test_df.pop('label'))\n",
    "\n",
    "    train_features = np.array(train_df)\n",
    "    val_features = np.array(val_df)\n",
    "    test_features = np.array(test_df)\n",
    "    \n",
    "    channels = len(nex_names)\n",
    "    \n",
    "    train_features = train_features.reshape(train_features.shape[0], rows, cols, channels)\n",
    "    val_features = val_features.reshape(val_features.shape[0], rows, cols, channels)\n",
    "    test_features = test_features.reshape(test_features.shape[0], rows, cols, channels)\n",
    "    \n",
    "    if oversample == True:\n",
    "        resampled_ds, val_ds = resample_dataset(train_features, train_labels, bool_train_labels, \n",
    "                                                val_features, val_labels)\n",
    "        \n",
    "        resampled_history, resampled_model = train_with_balance(resampled_ds, val_ds)\n",
    "#         loss_plot = plot_loss(resampled_history, \"Oversampled\", 1)\n",
    "        \n",
    "        train_predictions_resampled = resampled_model.predict(train_features, batch_size=BATCH_SIZE)\n",
    "        test_predictions_resampled = resampled_model.predict(test_features, batch_size=BATCH_SIZE)\n",
    "        \n",
    "        resampled_results = resampled_model.evaluate(test_features, test_labels,\n",
    "                                             batch_size=BATCH_SIZE, verbose=0)\n",
    "\n",
    "        for name, value in zip(resampled_model.metrics_names, resampled_results):\n",
    "              print(name, ': ', value)\n",
    "        print()\n",
    "        plot_cm(test_labels, test_predictions_resampled)\n",
    "        \n",
    "        return resampled_history, resampled_model, complete_train_df, complete_test_df\n",
    "    \n",
    "    if oversample == False:\n",
    "        baseline_history, baseline_model = train_no_balance(train_features, train_labels, val_features, val_labels)\n",
    "#         loss_plot = plot_loss(baseline_history, \"No Balance\", 1)\n",
    "        train_predictions_baseline = baseline_model.predict(train_features, batch_size=BATCH_SIZE)\n",
    "        test_predictions_baseline = baseline_model.predict(test_features, batch_size=BATCH_SIZE)\n",
    "        baseline_results = baseline_model.evaluate(test_features, test_labels,\n",
    "                                  batch_size=BATCH_SIZE, verbose=0)\n",
    "        for name, value in zip(baseline_model.metrics_names, baseline_results):\n",
    "              print(name, ': ', value)\n",
    "        print()\n",
    "\n",
    "        plot_cm(test_labels, test_predictions_baseline)\n",
    "        \n",
    "        return baseline_history, baseline_model, complete_train_df, complete_test_df"
   ]
  },
  {
   "cell_type": "code",
   "execution_count": 31,
   "metadata": {},
   "outputs": [],
   "source": [
    "def sort_train(unsorted_df, channels):\n",
    "    sorted_df = unsorted_df.sort_index()\n",
    "    train_data = sorted_df.iloc[:,0:sorted_df.shape[1]-1].to_numpy()\n",
    "    train_data = train_data.reshape(train_data.shape[0], rows, cols, channels)\n",
    "    train_labels = sorted_df['label'].to_numpy()\n",
    "    \n",
    "    \n",
    "    return train_data, train_labels"
   ]
  },
  {
   "cell_type": "code",
   "execution_count": 32,
   "metadata": {},
   "outputs": [],
   "source": [
    "def gen_table(model, data, indicator, balance_type, combo, train_or_test, channels, save_table = False):\n",
    "    \n",
    "#     data = np.array(df.drop('label', axis = 1))\n",
    "#     data = data.reshape(data.shape[0], rows, cols, channels)\n",
    "    predictions = model.predict(data)\n",
    "    print(predictions.shape)\n",
    "    predictions = predictions.reshape(predictions.shape[0],)\n",
    "    predictions[predictions > 0.5] = 1\n",
    "    predictions[predictions <= 0.5] = 0\n",
    "    \n",
    "    print(np.sum(predictions))\n",
    "    \n",
    "    table = indicator.copy(deep = True)\n",
    "    \n",
    "    table['CNN Prediction'] = predictions\n",
    "    \n",
    "    if save_table == True:\n",
    "        path = results_folder + '/' + region + '/' + balance_type + '/' + combo\n",
    "        if not os.path.exists(path):\n",
    "            os.makedirs(path)\n",
    "        table.to_csv(path + '/' + 'sequence_table_' + train_or_test +'.csv', index = False)\n",
    "    \n",
    "    return table"
   ]
  },
  {
   "cell_type": "code",
   "execution_count": 33,
   "metadata": {},
   "outputs": [],
   "source": [
    "def save_weights(model, balance_type, variable):\n",
    "    path = weights_folder + '/' + region + '/' + balance_type + '/' + variable + '/' + variable\n",
    "    if not os.path.exists(path):\n",
    "        os.makedirs(path)\n",
    "    model.save_weights(path)"
   ]
  },
  {
   "cell_type": "code",
   "execution_count": 34,
   "metadata": {},
   "outputs": [],
   "source": [
    "no_balance = 'no_balance'\n",
    "oversampled = 'oversampled'\n",
    "color_number = 1"
   ]
  },
  {
   "cell_type": "code",
   "execution_count": 35,
   "metadata": {},
   "outputs": [],
   "source": [
    "baseline_histories = []\n",
    "baseline_models = []\n",
    "oversampled_histories = []\n",
    "oversampled_models = []\n",
    "cal_dfs = []\n",
    "val_dfs = []"
   ]
  },
  {
   "cell_type": "code",
   "execution_count": 37,
   "metadata": {},
   "outputs": [],
   "source": [
    "# nex_list = [nex_nuqv, nex_nv2m, nex_nv10m, nex_nv500, nex_nvqv, nex_nw500, nex_nq500, nex_nqv2m, \n",
    "#             nex_nqv10m, nex_nrh500, nex_nrh700, nex_nt2m, nex_nt2mdew, \n",
    "#             nex_nt10m, nex_nt500, nex_ntpw, nex_nu2m, nex_nu10m, nex_nu500]\n",
    "\n",
    "# ex_list = [ex_nuqv, ex_nv2m,ex_nv10m,ex_nv500,ex_nvqv,ex_nw500, \n",
    "#            ex_nq500, ex_nqv2m, ex_nqv10m, ex_nrh500, ex_nrh700, ex_nt2m, \n",
    "#            ex_nt2mdew, ex_nt10m, ex_nt500, ex_ntpw, ex_nu2m, ex_nu10m, ex_nu500]\n",
    "\n",
    "# test_list = [nuqv_0619, nv2m_0619, nv10m_0619, nv500_0619, nvqv_0619, \n",
    "#              nw500_0619, nq500_0619, nqv2m_0619, nqv10m_0619, nrh500_0619, \n",
    "#              nrh700_0619, nt2m_0619, nt2mdew_0619, nt10m_0619, nt500_0619, \n",
    "#             ntpw_0619, nu2m_0619, nu10m_0619, nu500_0619]"
   ]
  },
  {
   "cell_type": "markdown",
   "metadata": {},
   "source": [
    "# Use below cell to specify the required combination"
   ]
  },
  {
   "cell_type": "code",
   "execution_count": 131,
   "metadata": {},
   "outputs": [],
   "source": [
    "variable = 'nuqv_nvqv_ntpw_nw500'\n",
    "nex_names = [nex_nuqv, nex_nvqv, nex_ntpw, nex_nw500]\n",
    "ex_names = [ex_nuqv, ex_nvqv, ex_ntpw, ex_nw500]\n",
    "test_names = [nuqv_0619, nvqv_0619, ntpw_0619, nw500_0619]\n",
    "channels = 4"
   ]
  },
  {
   "cell_type": "code",
   "execution_count": 132,
   "metadata": {},
   "outputs": [
    {
     "name": "stdout",
     "output_type": "stream",
     "text": [
      "Epoch 1/100\n",
      "10/10 [==============================] - 1s 140ms/step - loss: 24.8031 - tp: 14.0000 - fp: 52.0000 - tn: 3020.0000 - fn: 54.0000 - accuracy: 0.9662 - precision: 0.2121 - recall: 0.2059 - auc: 0.6832 - val_loss: 20.4619 - val_tp: 0.0000e+00 - val_fp: 0.0000e+00 - val_tn: 463.0000 - val_fn: 7.0000 - val_accuracy: 0.9851 - val_precision: 0.0000e+00 - val_recall: 0.0000e+00 - val_auc: 0.3747\n",
      "Epoch 2/100\n",
      "10/10 [==============================] - 0s 30ms/step - loss: 17.4460 - tp: 0.0000e+00 - fp: 0.0000e+00 - tn: 1843.0000 - fn: 34.0000 - accuracy: 0.9819 - precision: 0.0000e+00 - recall: 0.0000e+00 - auc: 0.4065 - val_loss: 14.5080 - val_tp: 0.0000e+00 - val_fp: 0.0000e+00 - val_tn: 463.0000 - val_fn: 7.0000 - val_accuracy: 0.9851 - val_precision: 0.0000e+00 - val_recall: 0.0000e+00 - val_auc: 0.5142\n",
      "Epoch 3/100\n",
      "10/10 [==============================] - 1s 68ms/step - loss: 12.4229 - tp: 0.0000e+00 - fp: 0.0000e+00 - tn: 1843.0000 - fn: 34.0000 - accuracy: 0.9819 - precision: 0.0000e+00 - recall: 0.0000e+00 - auc: 0.4798 - val_loss: 10.5009 - val_tp: 0.0000e+00 - val_fp: 0.0000e+00 - val_tn: 463.0000 - val_fn: 7.0000 - val_accuracy: 0.9851 - val_precision: 0.0000e+00 - val_recall: 0.0000e+00 - val_auc: 0.5262\n",
      "Epoch 4/100\n",
      "10/10 [==============================] - 0s 29ms/step - loss: 9.0688 - tp: 0.0000e+00 - fp: 0.0000e+00 - tn: 1843.0000 - fn: 34.0000 - accuracy: 0.9819 - precision: 0.0000e+00 - recall: 0.0000e+00 - auc: 0.5222 - val_loss: 7.7802 - val_tp: 0.0000e+00 - val_fp: 0.0000e+00 - val_tn: 463.0000 - val_fn: 7.0000 - val_accuracy: 0.9851 - val_precision: 0.0000e+00 - val_recall: 0.0000e+00 - val_auc: 0.5358\n",
      "Epoch 5/100\n",
      "10/10 [==============================] - 0s 29ms/step - loss: 6.7776 - tp: 0.0000e+00 - fp: 0.0000e+00 - tn: 1843.0000 - fn: 34.0000 - accuracy: 0.9819 - precision: 0.0000e+00 - recall: 0.0000e+00 - auc: 0.5284 - val_loss: 5.9105 - val_tp: 0.0000e+00 - val_fp: 0.0000e+00 - val_tn: 463.0000 - val_fn: 7.0000 - val_accuracy: 0.9851 - val_precision: 0.0000e+00 - val_recall: 0.0000e+00 - val_auc: 0.5199\n",
      "Epoch 6/100\n",
      "10/10 [==============================] - 0s 29ms/step - loss: 5.1865 - tp: 0.0000e+00 - fp: 0.0000e+00 - tn: 1843.0000 - fn: 34.0000 - accuracy: 0.9819 - precision: 0.0000e+00 - recall: 0.0000e+00 - auc: 0.5370 - val_loss: 4.5884 - val_tp: 0.0000e+00 - val_fp: 0.0000e+00 - val_tn: 463.0000 - val_fn: 7.0000 - val_accuracy: 0.9851 - val_precision: 0.0000e+00 - val_recall: 0.0000e+00 - val_auc: 0.5437\n",
      "Epoch 7/100\n",
      "10/10 [==============================] - 0s 29ms/step - loss: 4.0572 - tp: 0.0000e+00 - fp: 0.0000e+00 - tn: 1843.0000 - fn: 34.0000 - accuracy: 0.9819 - precision: 0.0000e+00 - recall: 0.0000e+00 - auc: 0.5519 - val_loss: 3.6354 - val_tp: 0.0000e+00 - val_fp: 0.0000e+00 - val_tn: 463.0000 - val_fn: 7.0000 - val_accuracy: 0.9851 - val_precision: 0.0000e+00 - val_recall: 0.0000e+00 - val_auc: 0.5361\n",
      "Epoch 8/100\n",
      "10/10 [==============================] - 0s 29ms/step - loss: 3.2413 - tp: 0.0000e+00 - fp: 0.0000e+00 - tn: 1843.0000 - fn: 34.0000 - accuracy: 0.9819 - precision: 0.0000e+00 - recall: 0.0000e+00 - auc: 0.5700 - val_loss: 2.9372 - val_tp: 0.0000e+00 - val_fp: 0.0000e+00 - val_tn: 463.0000 - val_fn: 7.0000 - val_accuracy: 0.9851 - val_precision: 0.0000e+00 - val_recall: 0.0000e+00 - val_auc: 0.5511\n",
      "Epoch 9/100\n",
      "10/10 [==============================] - 0s 29ms/step - loss: 2.6386 - tp: 0.0000e+00 - fp: 0.0000e+00 - tn: 1843.0000 - fn: 34.0000 - accuracy: 0.9819 - precision: 0.0000e+00 - recall: 0.0000e+00 - auc: 0.5696 - val_loss: 2.4220 - val_tp: 0.0000e+00 - val_fp: 0.0000e+00 - val_tn: 463.0000 - val_fn: 7.0000 - val_accuracy: 0.9851 - val_precision: 0.0000e+00 - val_recall: 0.0000e+00 - val_auc: 0.5546\n",
      "Epoch 10/100\n",
      "10/10 [==============================] - 0s 29ms/step - loss: 2.1909 - tp: 0.0000e+00 - fp: 0.0000e+00 - tn: 1843.0000 - fn: 34.0000 - accuracy: 0.9819 - precision: 0.0000e+00 - recall: 0.0000e+00 - auc: 0.5783 - val_loss: 2.0322 - val_tp: 0.0000e+00 - val_fp: 0.0000e+00 - val_tn: 463.0000 - val_fn: 7.0000 - val_accuracy: 0.9851 - val_precision: 0.0000e+00 - val_recall: 0.0000e+00 - val_auc: 0.5450\n",
      "Epoch 11/100\n",
      "10/10 [==============================] - 0s 28ms/step - loss: 1.8502 - tp: 0.0000e+00 - fp: 0.0000e+00 - tn: 1843.0000 - fn: 34.0000 - accuracy: 0.9819 - precision: 0.0000e+00 - recall: 0.0000e+00 - auc: 0.5827 - val_loss: 1.7305 - val_tp: 0.0000e+00 - val_fp: 0.0000e+00 - val_tn: 463.0000 - val_fn: 7.0000 - val_accuracy: 0.9851 - val_precision: 0.0000e+00 - val_recall: 0.0000e+00 - val_auc: 0.5634\n",
      "Epoch 12/100\n",
      "10/10 [==============================] - 0s 30ms/step - loss: 1.5852 - tp: 0.0000e+00 - fp: 0.0000e+00 - tn: 1843.0000 - fn: 34.0000 - accuracy: 0.9819 - precision: 0.0000e+00 - recall: 0.0000e+00 - auc: 0.5873 - val_loss: 1.4935 - val_tp: 0.0000e+00 - val_fp: 0.0000e+00 - val_tn: 463.0000 - val_fn: 7.0000 - val_accuracy: 0.9851 - val_precision: 0.0000e+00 - val_recall: 0.0000e+00 - val_auc: 0.5545\n",
      "Epoch 13/100\n",
      "10/10 [==============================] - 0s 29ms/step - loss: 1.3761 - tp: 0.0000e+00 - fp: 0.0000e+00 - tn: 1843.0000 - fn: 34.0000 - accuracy: 0.9819 - precision: 0.0000e+00 - recall: 0.0000e+00 - auc: 0.5912 - val_loss: 1.3041 - val_tp: 0.0000e+00 - val_fp: 0.0000e+00 - val_tn: 463.0000 - val_fn: 7.0000 - val_accuracy: 0.9851 - val_precision: 0.0000e+00 - val_recall: 0.0000e+00 - val_auc: 0.5753\n",
      "Epoch 14/100\n",
      "10/10 [==============================] - 0s 29ms/step - loss: 1.2076 - tp: 0.0000e+00 - fp: 0.0000e+00 - tn: 1843.0000 - fn: 34.0000 - accuracy: 0.9819 - precision: 0.0000e+00 - recall: 0.0000e+00 - auc: 0.5843 - val_loss: 1.1513 - val_tp: 0.0000e+00 - val_fp: 0.0000e+00 - val_tn: 463.0000 - val_fn: 7.0000 - val_accuracy: 0.9851 - val_precision: 0.0000e+00 - val_recall: 0.0000e+00 - val_auc: 0.5774\n",
      "Epoch 15/100\n",
      "10/10 [==============================] - 0s 29ms/step - loss: 1.0707 - tp: 0.0000e+00 - fp: 0.0000e+00 - tn: 1843.0000 - fn: 34.0000 - accuracy: 0.9819 - precision: 0.0000e+00 - recall: 0.0000e+00 - auc: 0.5899 - val_loss: 1.0253 - val_tp: 0.0000e+00 - val_fp: 0.0000e+00 - val_tn: 463.0000 - val_fn: 7.0000 - val_accuracy: 0.9851 - val_precision: 0.0000e+00 - val_recall: 0.0000e+00 - val_auc: 0.5602\n",
      "Epoch 16/100\n",
      "10/10 [==============================] - 0s 29ms/step - loss: 0.9578 - tp: 0.0000e+00 - fp: 0.0000e+00 - tn: 1843.0000 - fn: 34.0000 - accuracy: 0.9819 - precision: 0.0000e+00 - recall: 0.0000e+00 - auc: 0.6028 - val_loss: 0.9201 - val_tp: 0.0000e+00 - val_fp: 0.0000e+00 - val_tn: 463.0000 - val_fn: 7.0000 - val_accuracy: 0.9851 - val_precision: 0.0000e+00 - val_recall: 0.0000e+00 - val_auc: 0.5636\n",
      "Epoch 17/100\n",
      "10/10 [==============================] - 0s 29ms/step - loss: 0.8631 - tp: 0.0000e+00 - fp: 0.0000e+00 - tn: 1843.0000 - fn: 34.0000 - accuracy: 0.9819 - precision: 0.0000e+00 - recall: 0.0000e+00 - auc: 0.5848 - val_loss: 0.8313 - val_tp: 0.0000e+00 - val_fp: 0.0000e+00 - val_tn: 463.0000 - val_fn: 7.0000 - val_accuracy: 0.9851 - val_precision: 0.0000e+00 - val_recall: 0.0000e+00 - val_auc: 0.5893\n",
      "Epoch 18/100\n",
      "10/10 [==============================] - 0s 28ms/step - loss: 0.7832 - tp: 0.0000e+00 - fp: 0.0000e+00 - tn: 1843.0000 - fn: 34.0000 - accuracy: 0.9819 - precision: 0.0000e+00 - recall: 0.0000e+00 - auc: 0.5913 - val_loss: 0.7561 - val_tp: 0.0000e+00 - val_fp: 0.0000e+00 - val_tn: 463.0000 - val_fn: 7.0000 - val_accuracy: 0.9851 - val_precision: 0.0000e+00 - val_recall: 0.0000e+00 - val_auc: 0.5625\n",
      "Epoch 19/100\n",
      "10/10 [==============================] - 0s 29ms/step - loss: 0.7147 - tp: 0.0000e+00 - fp: 0.0000e+00 - tn: 1843.0000 - fn: 34.0000 - accuracy: 0.9819 - precision: 0.0000e+00 - recall: 0.0000e+00 - auc: 0.6129 - val_loss: 0.6916 - val_tp: 0.0000e+00 - val_fp: 0.0000e+00 - val_tn: 463.0000 - val_fn: 7.0000 - val_accuracy: 0.9851 - val_precision: 0.0000e+00 - val_recall: 0.0000e+00 - val_auc: 0.5736\n",
      "Epoch 20/100\n",
      "10/10 [==============================] - 0s 29ms/step - loss: 0.6566 - tp: 0.0000e+00 - fp: 0.0000e+00 - tn: 1843.0000 - fn: 34.0000 - accuracy: 0.9819 - precision: 0.0000e+00 - recall: 0.0000e+00 - auc: 0.6015 - val_loss: 0.6359 - val_tp: 0.0000e+00 - val_fp: 0.0000e+00 - val_tn: 463.0000 - val_fn: 7.0000 - val_accuracy: 0.9851 - val_precision: 0.0000e+00 - val_recall: 0.0000e+00 - val_auc: 0.5788\n"
     ]
    },
    {
     "name": "stdout",
     "output_type": "stream",
     "text": [
      "Epoch 21/100\n",
      "10/10 [==============================] - 0s 29ms/step - loss: 0.6060 - tp: 0.0000e+00 - fp: 0.0000e+00 - tn: 1843.0000 - fn: 34.0000 - accuracy: 0.9819 - precision: 0.0000e+00 - recall: 0.0000e+00 - auc: 0.6044 - val_loss: 0.5874 - val_tp: 0.0000e+00 - val_fp: 0.0000e+00 - val_tn: 463.0000 - val_fn: 7.0000 - val_accuracy: 0.9851 - val_precision: 0.0000e+00 - val_recall: 0.0000e+00 - val_auc: 0.5614\n",
      "Epoch 22/100\n",
      "10/10 [==============================] - 0s 28ms/step - loss: 0.5617 - tp: 0.0000e+00 - fp: 0.0000e+00 - tn: 1843.0000 - fn: 34.0000 - accuracy: 0.9819 - precision: 0.0000e+00 - recall: 0.0000e+00 - auc: 0.6041 - val_loss: 0.5451 - val_tp: 0.0000e+00 - val_fp: 0.0000e+00 - val_tn: 463.0000 - val_fn: 7.0000 - val_accuracy: 0.9851 - val_precision: 0.0000e+00 - val_recall: 0.0000e+00 - val_auc: 0.5750\n",
      "Epoch 23/100\n",
      "10/10 [==============================] - 0s 29ms/step - loss: 0.5229 - tp: 0.0000e+00 - fp: 0.0000e+00 - tn: 1843.0000 - fn: 34.0000 - accuracy: 0.9819 - precision: 0.0000e+00 - recall: 0.0000e+00 - auc: 0.6115 - val_loss: 0.5077 - val_tp: 0.0000e+00 - val_fp: 0.0000e+00 - val_tn: 463.0000 - val_fn: 7.0000 - val_accuracy: 0.9851 - val_precision: 0.0000e+00 - val_recall: 0.0000e+00 - val_auc: 0.5707\n",
      "Epoch 24/100\n",
      "10/10 [==============================] - 0s 29ms/step - loss: 0.4887 - tp: 0.0000e+00 - fp: 0.0000e+00 - tn: 1843.0000 - fn: 34.0000 - accuracy: 0.9819 - precision: 0.0000e+00 - recall: 0.0000e+00 - auc: 0.6133 - val_loss: 0.4747 - val_tp: 0.0000e+00 - val_fp: 0.0000e+00 - val_tn: 463.0000 - val_fn: 7.0000 - val_accuracy: 0.9851 - val_precision: 0.0000e+00 - val_recall: 0.0000e+00 - val_auc: 0.5565\n",
      "Epoch 25/100\n",
      "10/10 [==============================] - 0s 28ms/step - loss: 0.4585 - tp: 0.0000e+00 - fp: 0.0000e+00 - tn: 1843.0000 - fn: 34.0000 - accuracy: 0.9819 - precision: 0.0000e+00 - recall: 0.0000e+00 - auc: 0.5969 - val_loss: 0.4455 - val_tp: 0.0000e+00 - val_fp: 0.0000e+00 - val_tn: 463.0000 - val_fn: 7.0000 - val_accuracy: 0.9851 - val_precision: 0.0000e+00 - val_recall: 0.0000e+00 - val_auc: 0.5643\n",
      "Epoch 26/100\n",
      "10/10 [==============================] - 0s 28ms/step - loss: 0.4315 - tp: 0.0000e+00 - fp: 0.0000e+00 - tn: 1843.0000 - fn: 34.0000 - accuracy: 0.9819 - precision: 0.0000e+00 - recall: 0.0000e+00 - auc: 0.6096 - val_loss: 0.4192 - val_tp: 0.0000e+00 - val_fp: 0.0000e+00 - val_tn: 463.0000 - val_fn: 7.0000 - val_accuracy: 0.9851 - val_precision: 0.0000e+00 - val_recall: 0.0000e+00 - val_auc: 0.5753\n",
      "Epoch 27/100\n",
      "10/10 [==============================] - ETA: 0s - loss: 0.4072 - tp: 0.0000e+00 - fp: 0.0000e+00 - tn: 1843.0000 - fn: 34.0000 - accuracy: 0.9819 - precision: 0.0000e+00 - recall: 0.0000e+00 - auc: 0.6067Restoring model weights from the end of the best epoch.\n",
      "10/10 [==============================] - 0s 29ms/step - loss: 0.4072 - tp: 0.0000e+00 - fp: 0.0000e+00 - tn: 1843.0000 - fn: 34.0000 - accuracy: 0.9819 - precision: 0.0000e+00 - recall: 0.0000e+00 - auc: 0.6067 - val_loss: 0.3956 - val_tp: 0.0000e+00 - val_fp: 0.0000e+00 - val_tn: 463.0000 - val_fn: 7.0000 - val_accuracy: 0.9851 - val_precision: 0.0000e+00 - val_recall: 0.0000e+00 - val_auc: 0.5731\n",
      "Epoch 00027: early stopping\n",
      "loss :  0.8473839163780212\n",
      "tp :  0.0\n",
      "fp :  0.0\n",
      "tn :  1229.0\n",
      "fn :  34.0\n",
      "accuracy :  0.9730799794197083\n",
      "precision :  0.0\n",
      "recall :  0.0\n",
      "auc :  0.5475637912750244\n",
      "\n",
      "Non extremes Detected (True Negatives):  1229\n",
      "Non extremes Incorrectly Detected (False Positives):  0\n",
      "Extremes Missed (False Negatives):  34\n",
      "Extremes Detected (True Positives):  0\n",
      "Total  Extremes:  34\n"
     ]
    },
    {
     "data": {
      "image/png": "[encoded data removed]",
      "text/plain": [
       "<Figure size 360x360 with 2 Axes>"
      ]
     },
     "metadata": {
      "needs_background": "light"
     },
     "output_type": "display_data"
    }
   ],
   "source": [
    "baseline_history, baseline_model, cal_df, val_df =  var_analysis(nex_names, \n",
    "                                                                            ex_names, \n",
    "                                                                            test_names, \n",
    "                                                                            oversample = False)\n",
    "# baseline_histories.append(baseline_history), baseline_models.append(baseline_model)"
   ]
  },
  {
   "cell_type": "code",
   "execution_count": 133,
   "metadata": {},
   "outputs": [
    {
     "data": {
      "image/png": "[encoded data removed]",
      "text/plain": [
       "<Figure size 864x720 with 1 Axes>"
      ]
     },
     "metadata": {
      "needs_background": "light"
     },
     "output_type": "display_data"
    }
   ],
   "source": [
    "plot_loss(baseline_history, color_number, no_balance, variable, save_fig = True)"
   ]
  },
  {
   "cell_type": "code",
   "execution_count": 134,
   "metadata": {},
   "outputs": [],
   "source": [
    "save_weights(baseline_model, no_balance, variable)"
   ]
  },
  {
   "cell_type": "code",
   "execution_count": 135,
   "metadata": {},
   "outputs": [
    {
     "name": "stdout",
     "output_type": "stream",
     "text": [
      "(2347, 1)\n",
      "0.0\n",
      "(1263, 1)\n",
      "0.0\n"
     ]
    }
   ],
   "source": [
    "train_data, train_labels = sort_train(cal_df, channels = channels)\n",
    "test_data = np.array(val_df.iloc[:,:-1]).reshape(val_df.shape[0], rows, cols, channels)\n",
    "train_table = gen_table(baseline_model, train_data, indicator_8005, no_balance, variable, 'train', channels = channels, save_table = True)\n",
    "test_table = gen_table(baseline_model, test_data, indicator_0619, no_balance, variable, 'test', channels = channels, save_table = True)"
   ]
  },
  {
   "cell_type": "code",
   "execution_count": 136,
   "metadata": {},
   "outputs": [
    {
     "name": "stdout",
     "output_type": "stream",
     "text": [
      "0.18\n",
      "Epoch 1/1000\n",
      "20/20 [==============================] - 2s 84ms/step - loss: 19.8369 - tp: 85.0000 - fp: 364.0000 - tn: 4083.0000 - fn: 731.0000 - accuracy: 0.7919 - precision: 0.1893 - recall: 0.1042 - auc: 0.6678 - val_loss: 12.6637 - val_tp: 0.0000e+00 - val_fp: 0.0000e+00 - val_tn: 463.0000 - val_fn: 7.0000 - val_accuracy: 0.9851 - val_precision: 0.0000e+00 - val_recall: 0.0000e+00 - val_auc: 0.5321\n",
      "Epoch 2/1000\n",
      "20/20 [==============================] - 1s 27ms/step - loss: 10.1509 - tp: 0.0000e+00 - fp: 0.0000e+00 - tn: 3218.0000 - fn: 782.0000 - accuracy: 0.8045 - precision: 0.0000e+00 - recall: 0.0000e+00 - auc: 0.7248 - val_loss: 6.8820 - val_tp: 0.0000e+00 - val_fp: 0.0000e+00 - val_tn: 463.0000 - val_fn: 7.0000 - val_accuracy: 0.9851 - val_precision: 0.0000e+00 - val_recall: 0.0000e+00 - val_auc: 0.5750\n",
      "Epoch 3/1000\n",
      "20/20 [==============================] - 1s 27ms/step - loss: 5.7900 - tp: 0.0000e+00 - fp: 0.0000e+00 - tn: 3219.0000 - fn: 781.0000 - accuracy: 0.8048 - precision: 0.0000e+00 - recall: 0.0000e+00 - auc: 0.7874 - val_loss: 4.0752 - val_tp: 0.0000e+00 - val_fp: 0.0000e+00 - val_tn: 463.0000 - val_fn: 7.0000 - val_accuracy: 0.9851 - val_precision: 0.0000e+00 - val_recall: 0.0000e+00 - val_auc: 0.6455\n",
      "Epoch 4/1000\n",
      "20/20 [==============================] - 1s 27ms/step - loss: 3.6384 - tp: 0.0000e+00 - fp: 0.0000e+00 - tn: 3186.0000 - fn: 814.0000 - accuracy: 0.7965 - precision: 0.0000e+00 - recall: 0.0000e+00 - auc: 0.8314 - val_loss: 2.6354 - val_tp: 0.0000e+00 - val_fp: 0.0000e+00 - val_tn: 463.0000 - val_fn: 7.0000 - val_accuracy: 0.9851 - val_precision: 0.0000e+00 - val_recall: 0.0000e+00 - val_auc: 0.6641\n",
      "Epoch 5/1000\n",
      "20/20 [==============================] - 1s 26ms/step - loss: 2.5033 - tp: 0.0000e+00 - fp: 0.0000e+00 - tn: 3199.0000 - fn: 801.0000 - accuracy: 0.7997 - precision: 0.0000e+00 - recall: 0.0000e+00 - auc: 0.8584 - val_loss: 1.8433 - val_tp: 0.0000e+00 - val_fp: 0.0000e+00 - val_tn: 463.0000 - val_fn: 7.0000 - val_accuracy: 0.9851 - val_precision: 0.0000e+00 - val_recall: 0.0000e+00 - val_auc: 0.6436\n",
      "Epoch 6/1000\n",
      "20/20 [==============================] - 1s 26ms/step - loss: 1.8633 - tp: 0.0000e+00 - fp: 0.0000e+00 - tn: 3205.0000 - fn: 795.0000 - accuracy: 0.8012 - precision: 0.0000e+00 - recall: 0.0000e+00 - auc: 0.8677 - val_loss: 1.3842 - val_tp: 0.0000e+00 - val_fp: 0.0000e+00 - val_tn: 463.0000 - val_fn: 7.0000 - val_accuracy: 0.9851 - val_precision: 0.0000e+00 - val_recall: 0.0000e+00 - val_auc: 0.6459\n",
      "Epoch 7/1000\n",
      "20/20 [==============================] - 1s 26ms/step - loss: 1.4734 - tp: 0.0000e+00 - fp: 0.0000e+00 - tn: 3229.0000 - fn: 771.0000 - accuracy: 0.8073 - precision: 0.0000e+00 - recall: 0.0000e+00 - auc: 0.8750 - val_loss: 1.1009 - val_tp: 0.0000e+00 - val_fp: 0.0000e+00 - val_tn: 463.0000 - val_fn: 7.0000 - val_accuracy: 0.9851 - val_precision: 0.0000e+00 - val_recall: 0.0000e+00 - val_auc: 0.6405\n",
      "Epoch 8/1000\n",
      "20/20 [==============================] - 1s 27ms/step - loss: 1.2525 - tp: 0.0000e+00 - fp: 0.0000e+00 - tn: 3136.0000 - fn: 864.0000 - accuracy: 0.7840 - precision: 0.0000e+00 - recall: 0.0000e+00 - auc: 0.8913 - val_loss: 0.9124 - val_tp: 0.0000e+00 - val_fp: 0.0000e+00 - val_tn: 463.0000 - val_fn: 7.0000 - val_accuracy: 0.9851 - val_precision: 0.0000e+00 - val_recall: 0.0000e+00 - val_auc: 0.6404\n",
      "Epoch 9/1000\n",
      "20/20 [==============================] - 1s 26ms/step - loss: 1.0730 - tp: 0.0000e+00 - fp: 0.0000e+00 - tn: 3181.0000 - fn: 819.0000 - accuracy: 0.7952 - precision: 0.0000e+00 - recall: 0.0000e+00 - auc: 0.8937 - val_loss: 0.7808 - val_tp: 0.0000e+00 - val_fp: 0.0000e+00 - val_tn: 463.0000 - val_fn: 7.0000 - val_accuracy: 0.9851 - val_precision: 0.0000e+00 - val_recall: 0.0000e+00 - val_auc: 0.6314\n",
      "Epoch 10/1000\n",
      "20/20 [==============================] - 1s 26ms/step - loss: 0.9640 - tp: 0.0000e+00 - fp: 0.0000e+00 - tn: 3147.0000 - fn: 853.0000 - accuracy: 0.7868 - precision: 0.0000e+00 - recall: 0.0000e+00 - auc: 0.9075 - val_loss: 0.6814 - val_tp: 0.0000e+00 - val_fp: 0.0000e+00 - val_tn: 463.0000 - val_fn: 7.0000 - val_accuracy: 0.9851 - val_precision: 0.0000e+00 - val_recall: 0.0000e+00 - val_auc: 0.6316\n",
      "Epoch 11/1000\n",
      "20/20 [==============================] - 1s 26ms/step - loss: 0.8599 - tp: 0.0000e+00 - fp: 0.0000e+00 - tn: 3207.0000 - fn: 793.0000 - accuracy: 0.8018 - precision: 0.0000e+00 - recall: 0.0000e+00 - auc: 0.9149 - val_loss: 0.5984 - val_tp: 0.0000e+00 - val_fp: 0.0000e+00 - val_tn: 463.0000 - val_fn: 7.0000 - val_accuracy: 0.9851 - val_precision: 0.0000e+00 - val_recall: 0.0000e+00 - val_auc: 0.6271\n",
      "Epoch 12/1000\n",
      "20/20 [==============================] - 1s 26ms/step - loss: 0.7767 - tp: 0.0000e+00 - fp: 0.0000e+00 - tn: 3254.0000 - fn: 746.0000 - accuracy: 0.8135 - precision: 0.0000e+00 - recall: 0.0000e+00 - auc: 0.9157 - val_loss: 0.5319 - val_tp: 0.0000e+00 - val_fp: 0.0000e+00 - val_tn: 463.0000 - val_fn: 7.0000 - val_accuracy: 0.9851 - val_precision: 0.0000e+00 - val_recall: 0.0000e+00 - val_auc: 0.6325\n",
      "Epoch 13/1000\n",
      "20/20 [==============================] - 1s 27ms/step - loss: 0.7448 - tp: 0.0000e+00 - fp: 0.0000e+00 - tn: 3181.0000 - fn: 819.0000 - accuracy: 0.7952 - precision: 0.0000e+00 - recall: 0.0000e+00 - auc: 0.9266 - val_loss: 0.5016 - val_tp: 0.0000e+00 - val_fp: 0.0000e+00 - val_tn: 463.0000 - val_fn: 7.0000 - val_accuracy: 0.9851 - val_precision: 0.0000e+00 - val_recall: 0.0000e+00 - val_auc: 0.6564\n",
      "Epoch 14/1000\n",
      "20/20 [==============================] - 1s 26ms/step - loss: 0.7014 - tp: 0.0000e+00 - fp: 0.0000e+00 - tn: 3174.0000 - fn: 826.0000 - accuracy: 0.7935 - precision: 0.0000e+00 - recall: 0.0000e+00 - auc: 0.9362 - val_loss: 0.4686 - val_tp: 0.0000e+00 - val_fp: 0.0000e+00 - val_tn: 463.0000 - val_fn: 7.0000 - val_accuracy: 0.9851 - val_precision: 0.0000e+00 - val_recall: 0.0000e+00 - val_auc: 0.6828\n",
      "Epoch 15/1000\n",
      "20/20 [==============================] - 1s 25ms/step - loss: 0.6595 - tp: 0.0000e+00 - fp: 0.0000e+00 - tn: 3189.0000 - fn: 811.0000 - accuracy: 0.7972 - precision: 0.0000e+00 - recall: 0.0000e+00 - auc: 0.9387 - val_loss: 0.4370 - val_tp: 0.0000e+00 - val_fp: 0.0000e+00 - val_tn: 463.0000 - val_fn: 7.0000 - val_accuracy: 0.9851 - val_precision: 0.0000e+00 - val_recall: 0.0000e+00 - val_auc: 0.7163\n",
      "Epoch 16/1000\n",
      "20/20 [==============================] - 1s 26ms/step - loss: 0.6237 - tp: 0.0000e+00 - fp: 0.0000e+00 - tn: 3200.0000 - fn: 800.0000 - accuracy: 0.8000 - precision: 0.0000e+00 - recall: 0.0000e+00 - auc: 0.9475 - val_loss: 0.4004 - val_tp: 0.0000e+00 - val_fp: 0.0000e+00 - val_tn: 463.0000 - val_fn: 7.0000 - val_accuracy: 0.9851 - val_precision: 0.0000e+00 - val_recall: 0.0000e+00 - val_auc: 0.7309\n",
      "Epoch 17/1000\n",
      "20/20 [==============================] - 1s 25ms/step - loss: 0.5880 - tp: 0.0000e+00 - fp: 0.0000e+00 - tn: 3221.0000 - fn: 779.0000 - accuracy: 0.8052 - precision: 0.0000e+00 - recall: 0.0000e+00 - auc: 0.9539 - val_loss: 0.3743 - val_tp: 0.0000e+00 - val_fp: 0.0000e+00 - val_tn: 463.0000 - val_fn: 7.0000 - val_accuracy: 0.9851 - val_precision: 0.0000e+00 - val_recall: 0.0000e+00 - val_auc: 0.7635\n",
      "Epoch 18/1000\n",
      "20/20 [==============================] - 0s 25ms/step - loss: 0.5612 - tp: 0.0000e+00 - fp: 0.0000e+00 - tn: 3231.0000 - fn: 769.0000 - accuracy: 0.8077 - precision: 0.0000e+00 - recall: 0.0000e+00 - auc: 0.9560 - val_loss: 0.3541 - val_tp: 1.0000 - val_fp: 0.0000e+00 - val_tn: 463.0000 - val_fn: 6.0000 - val_accuracy: 0.9872 - val_precision: 1.0000 - val_recall: 0.1429 - val_auc: 0.8013\n",
      "Epoch 19/1000\n",
      "20/20 [==============================] - 1s 25ms/step - loss: 0.5487 - tp: 0.0000e+00 - fp: 0.0000e+00 - tn: 3193.0000 - fn: 807.0000 - accuracy: 0.7983 - precision: 0.0000e+00 - recall: 0.0000e+00 - auc: 0.9599 - val_loss: 0.3333 - val_tp: 1.0000 - val_fp: 0.0000e+00 - val_tn: 463.0000 - val_fn: 6.0000 - val_accuracy: 0.9872 - val_precision: 1.0000 - val_recall: 0.1429 - val_auc: 0.8227\n",
      "Epoch 20/1000\n",
      "20/20 [==============================] - 1s 25ms/step - loss: 0.5241 - tp: 15.0000 - fp: 0.0000e+00 - tn: 3200.0000 - fn: 785.0000 - accuracy: 0.8037 - precision: 1.0000 - recall: 0.0188 - auc: 0.9662 - val_loss: 0.3189 - val_tp: 1.0000 - val_fp: 0.0000e+00 - val_tn: 463.0000 - val_fn: 6.0000 - val_accuracy: 0.9872 - val_precision: 1.0000 - val_recall: 0.1429 - val_auc: 0.8595\n"
     ]
    },
    {
     "name": "stdout",
     "output_type": "stream",
     "text": [
      "Epoch 21/1000\n",
      "20/20 [==============================] - 0s 25ms/step - loss: 0.4930 - tp: 24.0000 - fp: 0.0000e+00 - tn: 3257.0000 - fn: 719.0000 - accuracy: 0.8202 - precision: 1.0000 - recall: 0.0323 - auc: 0.9639 - val_loss: 0.2997 - val_tp: 1.0000 - val_fp: 0.0000e+00 - val_tn: 463.0000 - val_fn: 6.0000 - val_accuracy: 0.9872 - val_precision: 1.0000 - val_recall: 0.1429 - val_auc: 0.8778\n",
      "Epoch 22/1000\n",
      "20/20 [==============================] - 1s 25ms/step - loss: 0.4876 - tp: 65.0000 - fp: 0.0000e+00 - tn: 3204.0000 - fn: 731.0000 - accuracy: 0.8173 - precision: 1.0000 - recall: 0.0817 - auc: 0.9692 - val_loss: 0.2940 - val_tp: 1.0000 - val_fp: 0.0000e+00 - val_tn: 463.0000 - val_fn: 6.0000 - val_accuracy: 0.9872 - val_precision: 1.0000 - val_recall: 0.1429 - val_auc: 0.9023\n",
      "Epoch 23/1000\n",
      "20/20 [==============================] - 1s 25ms/step - loss: 0.4688 - tp: 97.0000 - fp: 0.0000e+00 - tn: 3213.0000 - fn: 690.0000 - accuracy: 0.8275 - precision: 1.0000 - recall: 0.1233 - auc: 0.9703 - val_loss: 0.2713 - val_tp: 1.0000 - val_fp: 0.0000e+00 - val_tn: 463.0000 - val_fn: 6.0000 - val_accuracy: 0.9872 - val_precision: 1.0000 - val_recall: 0.1429 - val_auc: 0.8988\n",
      "Epoch 24/1000\n",
      "20/20 [==============================] - 1s 26ms/step - loss: 0.4543 - tp: 112.0000 - fp: 1.0000 - tn: 3200.0000 - fn: 687.0000 - accuracy: 0.8280 - precision: 0.9912 - recall: 0.1402 - auc: 0.9718 - val_loss: 0.2677 - val_tp: 3.0000 - val_fp: 0.0000e+00 - val_tn: 463.0000 - val_fn: 4.0000 - val_accuracy: 0.9915 - val_precision: 1.0000 - val_recall: 0.4286 - val_auc: 0.9175\n",
      "Epoch 25/1000\n",
      "20/20 [==============================] - 1s 25ms/step - loss: 0.4390 - tp: 123.0000 - fp: 2.0000 - tn: 3204.0000 - fn: 671.0000 - accuracy: 0.8317 - precision: 0.9840 - recall: 0.1549 - auc: 0.9747 - val_loss: 0.2632 - val_tp: 3.0000 - val_fp: 1.0000 - val_tn: 462.0000 - val_fn: 4.0000 - val_accuracy: 0.9894 - val_precision: 0.7500 - val_recall: 0.4286 - val_auc: 0.9300\n",
      "Epoch 26/1000\n",
      "20/20 [==============================] - 1s 25ms/step - loss: 0.4211 - tp: 178.0000 - fp: 1.0000 - tn: 3208.0000 - fn: 613.0000 - accuracy: 0.8465 - precision: 0.9944 - recall: 0.2250 - auc: 0.9753 - val_loss: 0.2495 - val_tp: 3.0000 - val_fp: 1.0000 - val_tn: 462.0000 - val_fn: 4.0000 - val_accuracy: 0.9894 - val_precision: 0.7500 - val_recall: 0.4286 - val_auc: 0.9330\n",
      "Epoch 27/1000\n",
      "20/20 [==============================] - 1s 26ms/step - loss: 0.4116 - tp: 206.0000 - fp: 8.0000 - tn: 3181.0000 - fn: 605.0000 - accuracy: 0.8468 - precision: 0.9626 - recall: 0.2540 - auc: 0.9760 - val_loss: 0.2450 - val_tp: 3.0000 - val_fp: 1.0000 - val_tn: 462.0000 - val_fn: 4.0000 - val_accuracy: 0.9894 - val_precision: 0.7500 - val_recall: 0.4286 - val_auc: 0.9438\n",
      "Epoch 28/1000\n",
      "20/20 [==============================] - 1s 25ms/step - loss: 0.3919 - tp: 254.0000 - fp: 12.0000 - tn: 3188.0000 - fn: 546.0000 - accuracy: 0.8605 - precision: 0.9549 - recall: 0.3175 - auc: 0.9793 - val_loss: 0.2351 - val_tp: 3.0000 - val_fp: 2.0000 - val_tn: 461.0000 - val_fn: 4.0000 - val_accuracy: 0.9872 - val_precision: 0.6000 - val_recall: 0.4286 - val_auc: 0.9503\n",
      "Epoch 29/1000\n",
      "20/20 [==============================] - 1s 26ms/step - loss: 0.3776 - tp: 332.0000 - fp: 18.0000 - tn: 3181.0000 - fn: 469.0000 - accuracy: 0.8783 - precision: 0.9486 - recall: 0.4145 - auc: 0.9791 - val_loss: 0.2263 - val_tp: 3.0000 - val_fp: 2.0000 - val_tn: 461.0000 - val_fn: 4.0000 - val_accuracy: 0.9872 - val_precision: 0.6000 - val_recall: 0.4286 - val_auc: 0.9486\n",
      "Epoch 30/1000\n",
      "20/20 [==============================] - 1s 26ms/step - loss: 0.3556 - tp: 356.0000 - fp: 20.0000 - tn: 3221.0000 - fn: 403.0000 - accuracy: 0.8942 - precision: 0.9468 - recall: 0.4690 - auc: 0.9807 - val_loss: 0.2211 - val_tp: 3.0000 - val_fp: 4.0000 - val_tn: 459.0000 - val_fn: 4.0000 - val_accuracy: 0.9830 - val_precision: 0.4286 - val_recall: 0.4286 - val_auc: 0.9599\n",
      "Epoch 31/1000\n",
      "20/20 [==============================] - 1s 26ms/step - loss: 0.3497 - tp: 432.0000 - fp: 36.0000 - tn: 3158.0000 - fn: 374.0000 - accuracy: 0.8975 - precision: 0.9231 - recall: 0.5360 - auc: 0.9809 - val_loss: 0.2147 - val_tp: 3.0000 - val_fp: 4.0000 - val_tn: 459.0000 - val_fn: 4.0000 - val_accuracy: 0.9830 - val_precision: 0.4286 - val_recall: 0.4286 - val_auc: 0.9670\n",
      "Epoch 32/1000\n",
      "20/20 [==============================] - 1s 25ms/step - loss: 0.3234 - tp: 379.0000 - fp: 30.0000 - tn: 3233.0000 - fn: 358.0000 - accuracy: 0.9030 - precision: 0.9267 - recall: 0.5142 - auc: 0.9843 - val_loss: 0.2039 - val_tp: 3.0000 - val_fp: 4.0000 - val_tn: 459.0000 - val_fn: 4.0000 - val_accuracy: 0.9830 - val_precision: 0.4286 - val_recall: 0.4286 - val_auc: 0.9688\n",
      "Epoch 33/1000\n",
      "20/20 [==============================] - 1s 26ms/step - loss: 0.3223 - tp: 469.0000 - fp: 41.0000 - tn: 3155.0000 - fn: 335.0000 - accuracy: 0.9060 - precision: 0.9196 - recall: 0.5833 - auc: 0.9839 - val_loss: 0.2133 - val_tp: 3.0000 - val_fp: 6.0000 - val_tn: 457.0000 - val_fn: 4.0000 - val_accuracy: 0.9787 - val_precision: 0.3333 - val_recall: 0.4286 - val_auc: 0.9725\n",
      "Epoch 34/1000\n",
      "20/20 [==============================] - 1s 26ms/step - loss: 0.3091 - tp: 488.0000 - fp: 36.0000 - tn: 3160.0000 - fn: 316.0000 - accuracy: 0.9120 - precision: 0.9313 - recall: 0.6070 - auc: 0.9859 - val_loss: 0.1980 - val_tp: 3.0000 - val_fp: 4.0000 - val_tn: 459.0000 - val_fn: 4.0000 - val_accuracy: 0.9830 - val_precision: 0.4286 - val_recall: 0.4286 - val_auc: 0.9710\n",
      "Epoch 35/1000\n",
      "20/20 [==============================] - 1s 26ms/step - loss: 0.2980 - tp: 526.0000 - fp: 45.0000 - tn: 3142.0000 - fn: 287.0000 - accuracy: 0.9170 - precision: 0.9212 - recall: 0.6470 - auc: 0.9871 - val_loss: 0.1923 - val_tp: 3.0000 - val_fp: 5.0000 - val_tn: 458.0000 - val_fn: 4.0000 - val_accuracy: 0.9809 - val_precision: 0.3750 - val_recall: 0.4286 - val_auc: 0.9716\n",
      "Epoch 36/1000\n",
      "20/20 [==============================] - 1s 26ms/step - loss: 0.2800 - tp: 497.0000 - fp: 42.0000 - tn: 3198.0000 - fn: 263.0000 - accuracy: 0.9237 - precision: 0.9221 - recall: 0.6539 - auc: 0.9888 - val_loss: 0.1889 - val_tp: 3.0000 - val_fp: 7.0000 - val_tn: 456.0000 - val_fn: 4.0000 - val_accuracy: 0.9766 - val_precision: 0.3000 - val_recall: 0.4286 - val_auc: 0.9749\n",
      "Epoch 37/1000\n",
      "20/20 [==============================] - 1s 26ms/step - loss: 0.2759 - tp: 568.0000 - fp: 47.0000 - tn: 3146.0000 - fn: 239.0000 - accuracy: 0.9285 - precision: 0.9236 - recall: 0.7038 - auc: 0.9891 - val_loss: 0.1878 - val_tp: 3.0000 - val_fp: 7.0000 - val_tn: 456.0000 - val_fn: 4.0000 - val_accuracy: 0.9766 - val_precision: 0.3000 - val_recall: 0.4286 - val_auc: 0.9749\n",
      "Epoch 38/1000\n",
      "20/20 [==============================] - 1s 25ms/step - loss: 0.2712 - tp: 656.0000 - fp: 51.0000 - tn: 3090.0000 - fn: 203.0000 - accuracy: 0.9365 - precision: 0.9279 - recall: 0.7637 - auc: 0.9901 - val_loss: 0.1976 - val_tp: 4.0000 - val_fp: 8.0000 - val_tn: 455.0000 - val_fn: 3.0000 - val_accuracy: 0.9766 - val_precision: 0.3333 - val_recall: 0.5714 - val_auc: 0.9795\n",
      "Epoch 39/1000\n",
      "20/20 [==============================] - 1s 25ms/step - loss: 0.2616 - tp: 657.0000 - fp: 55.0000 - tn: 3116.0000 - fn: 172.0000 - accuracy: 0.9433 - precision: 0.9228 - recall: 0.7925 - auc: 0.9901 - val_loss: 0.1950 - val_tp: 4.0000 - val_fp: 8.0000 - val_tn: 455.0000 - val_fn: 3.0000 - val_accuracy: 0.9766 - val_precision: 0.3333 - val_recall: 0.5714 - val_auc: 0.9815\n",
      "Epoch 40/1000\n",
      "20/20 [==============================] - 1s 26ms/step - loss: 0.2475 - tp: 647.0000 - fp: 63.0000 - tn: 3134.0000 - fn: 156.0000 - accuracy: 0.9452 - precision: 0.9113 - recall: 0.8057 - auc: 0.9907 - val_loss: 0.1724 - val_tp: 3.0000 - val_fp: 6.0000 - val_tn: 457.0000 - val_fn: 4.0000 - val_accuracy: 0.9787 - val_precision: 0.3333 - val_recall: 0.4286 - val_auc: 0.9762\n",
      "Epoch 41/1000\n",
      "20/20 [==============================] - 1s 26ms/step - loss: 0.2369 - tp: 677.0000 - fp: 50.0000 - tn: 3150.0000 - fn: 123.0000 - accuracy: 0.9567 - precision: 0.9312 - recall: 0.8462 - auc: 0.9926 - val_loss: 0.1544 - val_tp: 3.0000 - val_fp: 5.0000 - val_tn: 458.0000 - val_fn: 4.0000 - val_accuracy: 0.9809 - val_precision: 0.3750 - val_recall: 0.4286 - val_auc: 0.9585\n",
      "Epoch 42/1000\n"
     ]
    },
    {
     "name": "stdout",
     "output_type": "stream",
     "text": [
      "20/20 [==============================] - 1s 27ms/step - loss: 0.2287 - tp: 634.0000 - fp: 48.0000 - tn: 3189.0000 - fn: 129.0000 - accuracy: 0.9557 - precision: 0.9296 - recall: 0.8309 - auc: 0.9933 - val_loss: 0.1563 - val_tp: 3.0000 - val_fp: 6.0000 - val_tn: 457.0000 - val_fn: 4.0000 - val_accuracy: 0.9787 - val_precision: 0.3333 - val_recall: 0.4286 - val_auc: 0.9678\n",
      "Epoch 43/1000\n",
      "20/20 [==============================] - 0s 25ms/step - loss: 0.2337 - tp: 688.0000 - fp: 59.0000 - tn: 3122.0000 - fn: 131.0000 - accuracy: 0.9525 - precision: 0.9210 - recall: 0.8400 - auc: 0.9910 - val_loss: 0.1642 - val_tp: 3.0000 - val_fp: 7.0000 - val_tn: 456.0000 - val_fn: 4.0000 - val_accuracy: 0.9766 - val_precision: 0.3000 - val_recall: 0.4286 - val_auc: 0.9799\n",
      "Epoch 44/1000\n",
      "20/20 [==============================] - 1s 25ms/step - loss: 0.2232 - tp: 669.0000 - fp: 58.0000 - tn: 3163.0000 - fn: 110.0000 - accuracy: 0.9580 - precision: 0.9202 - recall: 0.8588 - auc: 0.9915 - val_loss: 0.1568 - val_tp: 3.0000 - val_fp: 6.0000 - val_tn: 457.0000 - val_fn: 4.0000 - val_accuracy: 0.9787 - val_precision: 0.3333 - val_recall: 0.4286 - val_auc: 0.9767\n",
      "Epoch 45/1000\n",
      "20/20 [==============================] - 1s 25ms/step - loss: 0.2169 - tp: 739.0000 - fp: 57.0000 - tn: 3122.0000 - fn: 82.0000 - accuracy: 0.9653 - precision: 0.9284 - recall: 0.9001 - auc: 0.9939 - val_loss: 0.1694 - val_tp: 4.0000 - val_fp: 8.0000 - val_tn: 455.0000 - val_fn: 3.0000 - val_accuracy: 0.9766 - val_precision: 0.3333 - val_recall: 0.5714 - val_auc: 0.9804\n",
      "Epoch 46/1000\n",
      "20/20 [==============================] - 1s 25ms/step - loss: 0.2048 - tp: 682.0000 - fp: 45.0000 - tn: 3191.0000 - fn: 82.0000 - accuracy: 0.9682 - precision: 0.9381 - recall: 0.8927 - auc: 0.9941 - val_loss: 0.1553 - val_tp: 3.0000 - val_fp: 7.0000 - val_tn: 456.0000 - val_fn: 4.0000 - val_accuracy: 0.9766 - val_precision: 0.3000 - val_recall: 0.4286 - val_auc: 0.9736\n",
      "Epoch 47/1000\n",
      "20/20 [==============================] - 1s 26ms/step - loss: 0.2004 - tp: 732.0000 - fp: 41.0000 - tn: 3167.0000 - fn: 60.0000 - accuracy: 0.9747 - precision: 0.9470 - recall: 0.9242 - auc: 0.9952 - val_loss: 0.1560 - val_tp: 4.0000 - val_fp: 7.0000 - val_tn: 456.0000 - val_fn: 3.0000 - val_accuracy: 0.9787 - val_precision: 0.3636 - val_recall: 0.5714 - val_auc: 0.9782\n",
      "Epoch 48/1000\n",
      "20/20 [==============================] - 1s 25ms/step - loss: 0.1985 - tp: 803.0000 - fp: 54.0000 - tn: 3104.0000 - fn: 39.0000 - accuracy: 0.9768 - precision: 0.9370 - recall: 0.9537 - auc: 0.9948 - val_loss: 0.1593 - val_tp: 4.0000 - val_fp: 8.0000 - val_tn: 455.0000 - val_fn: 3.0000 - val_accuracy: 0.9766 - val_precision: 0.3333 - val_recall: 0.5714 - val_auc: 0.9775\n",
      "Epoch 49/1000\n",
      "18/20 [==========================>...] - ETA: 0s - loss: 0.1929 - tp: 680.0000 - fp: 44.0000 - tn: 2834.0000 - fn: 42.0000 - accuracy: 0.9761 - precision: 0.9392 - recall: 0.9418 - auc: 0.9949Restoring model weights from the end of the best epoch.\n",
      "20/20 [==============================] - 1s 25ms/step - loss: 0.1916 - tp: 755.0000 - fp: 48.0000 - tn: 3151.0000 - fn: 46.0000 - accuracy: 0.9765 - precision: 0.9402 - recall: 0.9426 - auc: 0.9951 - val_loss: 0.1524 - val_tp: 4.0000 - val_fp: 7.0000 - val_tn: 456.0000 - val_fn: 3.0000 - val_accuracy: 0.9787 - val_precision: 0.3636 - val_recall: 0.5714 - val_auc: 0.9719\n",
      "Epoch 00049: early stopping\n",
      "loss :  0.22313326597213745\n",
      "tp :  13.0\n",
      "fp :  25.0\n",
      "tn :  1204.0\n",
      "fn :  21.0\n",
      "accuracy :  0.9635787606239319\n",
      "precision :  0.34210526943206787\n",
      "recall :  0.38235294818878174\n",
      "auc :  0.886086106300354\n",
      "\n",
      "Non extremes Detected (True Negatives):  1204\n",
      "Non extremes Incorrectly Detected (False Positives):  25\n",
      "Extremes Missed (False Negatives):  21\n",
      "Extremes Detected (True Positives):  13\n",
      "Total  Extremes:  34\n"
     ]
    },
    {
     "data": {
      "image/png": "[encoded data removed]",
      "text/plain": [
       "<Figure size 360x360 with 2 Axes>"
      ]
     },
     "metadata": {
      "needs_background": "light"
     },
     "output_type": "display_data"
    }
   ],
   "source": [
    "oversampled_history, oversampled_model, cal_df, val_df =  var_analysis(nex_names,ex_names, test_names, \n",
    "                                                                                            oversample = True) \n",
    "                                                                                                        "
   ]
  },
  {
   "cell_type": "code",
   "execution_count": 137,
   "metadata": {},
   "outputs": [
    {
     "data": {
      "image/png": "[encoded data removed]",
      "text/plain": [
       "<Figure size 864x720 with 1 Axes>"
      ]
     },
     "metadata": {
      "needs_background": "light"
     },
     "output_type": "display_data"
    }
   ],
   "source": [
    "plot_loss(oversampled_history, color_number, oversampled, variable, save_fig = True)"
   ]
  },
  {
   "cell_type": "code",
   "execution_count": 138,
   "metadata": {},
   "outputs": [],
   "source": [
    "save_weights(oversampled_model, oversampled, variable)"
   ]
  },
  {
   "cell_type": "code",
   "execution_count": 139,
   "metadata": {},
   "outputs": [
    {
     "name": "stdout",
     "output_type": "stream",
     "text": [
      "(2347, 1)\n",
      "86.0\n",
      "(1263, 1)\n",
      "38.0\n"
     ]
    }
   ],
   "source": [
    "train_data, train_labels = sort_train(cal_df, channels = channels)\n",
    "test_data = np.array(val_df.iloc[:,:-1]).reshape(val_df.shape[0], rows, cols, channels)\n",
    "train_table = gen_table(oversampled_model, train_data, indicator_8005, oversampled, variable, 'train', channels = channels, \n",
    "                        save_table = True)\n",
    "test_table = gen_table(oversampled_model, test_data, indicator_0619, oversampled, variable, 'test', channels = channels, \n",
    "                       save_table = True)"
   ]
  },
  {
   "cell_type": "code",
   "execution_count": 140,
   "metadata": {},
   "outputs": [
    {
     "data": {
      "text/plain": [
       "(34, 6)"
      ]
     },
     "execution_count": 140,
     "metadata": {},
     "output_type": "execute_result"
    }
   ],
   "source": [
    "train_table[(train_table['label'] == 1) & (train_table['CNN Prediction'] == 1)].shape"
   ]
  },
  {
   "cell_type": "code",
   "execution_count": 142,
   "metadata": {},
   "outputs": [
    {
     "data": {
      "text/plain": [
       "(13, 6)"
      ]
     },
     "execution_count": 142,
     "metadata": {},
     "output_type": "execute_result"
    }
   ],
   "source": [
    "test_table[(test_table['label'] == 1) & (test_table['CNN Prediction'] == 1)].shape"
   ]
  }
 ],
 "metadata": {
  "kernelspec": {
   "display_name": "Python 3",
   "language": "python",
   "name": "python3"
  },
  "language_info": {
   "codemirror_mode": {
    "name": "ipython",
    "version": 3
   },
   "file_extension": ".py",
   "mimetype": "text/x-python",
   "name": "python",
   "nbconvert_exporter": "python",
   "pygments_lexer": "ipython3",
   "version": "3.7.4"
  }
 },
 "nbformat": 4,
 "nbformat_minor": 4
}
